{
  "nbformat": 4,
  "nbformat_minor": 0,
  "metadata": {
    "colab": {
      "name": "Untitled5.ipynb",
      "provenance": [],
      "include_colab_link": true
    },
    "kernelspec": {
      "name": "python3",
      "display_name": "Python 3"
    },
    "accelerator": "TPU"
  },
  "cells": [
    {
      "cell_type": "markdown",
      "metadata": {
        "id": "view-in-github",
        "colab_type": "text"
      },
      "source": [
        "<a href=\"https://colab.research.google.com/github/Xanthor-Aditya/Pytorch-Practice_Codes/blob/master/Cifar10-Conv2d-pytorch.ipynb\" target=\"_parent\"><img src=\"https://colab.research.google.com/assets/colab-badge.svg\" alt=\"Open In Colab\"/></a>"
      ]
    },
    {
      "cell_type": "code",
      "metadata": {
        "id": "fuVuhoVKqaid",
        "colab_type": "code",
        "colab": {}
      },
      "source": [
        "use_cuda = True"
      ],
      "execution_count": 0,
      "outputs": []
    },
    {
      "cell_type": "code",
      "metadata": {
        "id": "MX0yuoLOFPUj",
        "colab_type": "code",
        "colab": {}
      },
      "source": [
        "import torch"
      ],
      "execution_count": 0,
      "outputs": []
    },
    {
      "cell_type": "code",
      "metadata": {
        "id": "kpW5URahFPFF",
        "colab_type": "code",
        "colab": {}
      },
      "source": [
        "import torch.nn as nn"
      ],
      "execution_count": 0,
      "outputs": []
    },
    {
      "cell_type": "code",
      "metadata": {
        "id": "CtoUYg6EKokr",
        "colab_type": "code",
        "colab": {}
      },
      "source": [
        "import torch.nn.functional as F"
      ],
      "execution_count": 0,
      "outputs": []
    },
    {
      "cell_type": "code",
      "metadata": {
        "id": "3PKIWAHZGpgs",
        "colab_type": "code",
        "colab": {}
      },
      "source": [
        "import torchvision.datasets as dsets"
      ],
      "execution_count": 0,
      "outputs": []
    },
    {
      "cell_type": "code",
      "metadata": {
        "id": "rZEBJAr8GyEg",
        "colab_type": "code",
        "colab": {}
      },
      "source": [
        "import torchvision.transforms as transforms"
      ],
      "execution_count": 0,
      "outputs": []
    },
    {
      "cell_type": "code",
      "metadata": {
        "id": "sa9YPb_LG5fp",
        "colab_type": "code",
        "colab": {}
      },
      "source": [
        "from torch.autograd import Variable"
      ],
      "execution_count": 0,
      "outputs": []
    },
    {
      "cell_type": "code",
      "metadata": {
        "id": "SB4MOPxQjIMU",
        "colab_type": "code",
        "colab": {}
      },
      "source": [
        "input_size = (3,32,32)\n"
      ],
      "execution_count": 0,
      "outputs": []
    },
    {
      "cell_type": "code",
      "metadata": {
        "id": "AmZlL64Ht6bw",
        "colab_type": "code",
        "colab": {}
      },
      "source": [
        "number_of_filters1 = 16\n",
        "filter_size1 = 3\n",
        "number_of_filters2 = 32\n",
        "filter_size2 = 5\n",
        "padding = 1\n",
        "stride = 1\n",
        "hidden_size = 128\n",
        "num_classes = 10\n",
        "num_epochs = 20\n",
        "batch_size = 32\n",
        "learning_rate = 0.0001\n",
        "nn_input= 900"
      ],
      "execution_count": 0,
      "outputs": []
    },
    {
      "cell_type": "code",
      "metadata": {
        "id": "BYI24oDauFjz",
        "colab_type": "code",
        "colab": {
          "base_uri": "https://localhost:8080/",
          "height": 53
        },
        "outputId": "0e4df5a3-9999-41dd-9f30-be96fe8ce2fd"
      },
      "source": [
        "train_dataset = dsets.CIFAR10(root='./data',\n",
        "                           train=True,\n",
        "                           transform= transforms.ToTensor(),\n",
        "                           download=True)\n",
        "\n",
        "test_dataset = dsets.CIFAR10(root='./data',\n",
        "                           train=False,\n",
        "                           transform= transforms.ToTensor())"
      ],
      "execution_count": 9,
      "outputs": [
        {
          "output_type": "stream",
          "text": [
            "\r0it [00:00, ?it/s]"
          ],
          "name": "stderr"
        },
        {
          "output_type": "stream",
          "text": [
            "Downloading https://www.cs.toronto.edu/~kriz/cifar-10-python.tar.gz to ./data/cifar-10-python.tar.gz\n"
          ],
          "name": "stdout"
        },
        {
          "output_type": "stream",
          "text": [
            "170500096it [00:07, 23120539.88it/s]                               \n"
          ],
          "name": "stderr"
        }
      ]
    },
    {
      "cell_type": "code",
      "metadata": {
        "id": "SynR9HamuRdl",
        "colab_type": "code",
        "colab": {}
      },
      "source": [
        "train_loader = torch.utils.data.DataLoader(dataset=train_dataset,\n",
        "                                          batch_size=batch_size,\n",
        "                                          shuffle=True)\n",
        "\n",
        "test_loader = torch.utils.data.DataLoader(dataset=test_dataset,\n",
        "                                          batch_size=batch_size,\n",
        "                                          shuffle=False)"
      ],
      "execution_count": 0,
      "outputs": []
    },
    {
      "cell_type": "code",
      "metadata": {
        "id": "VeZa187Kukxo",
        "colab_type": "code",
        "colab": {}
      },
      "source": [
        "class Net(nn.Module):\n",
        "  def __init__(self, input_size, hidden_size, num_classes):\n",
        "    super(Net, self).__init__()\n",
        "    self.conv1 = nn.Conv2d(3, number_of_filters1, filter_size1,stride, padding)\n",
        "    self.conv2 = nn.Conv2d(number_of_filters1, number_of_filters2, filter_size2, stride, padding)\n",
        "    self.bn1 = nn.BatchNorm2d(number_of_filters2)\n",
        "    #self.global_mxpool = nn.AvgPool2d(2,2)\n",
        "    self.fc1 = nn.Linear(nn_input*number_of_filters2, hidden_size)\n",
        "    self.relu = nn.ReLU()\n",
        "    self.fc2 = nn.Linear(hidden_size, num_classes)\n",
        "  def forward(self,x):\n",
        "    out = F.relu(self.conv1(x))\n",
        "    out = self.conv2(out)\n",
        "    out = F.relu(self.bn1(out))\n",
        "    out = out.view(-1, nn_input*number_of_filters2)\n",
        "    #out = self.global_mxpool(out)\n",
        "    out = self.fc1(out)\n",
        "    out = self.relu(out)\n",
        "    out = self.fc2(out)\n",
        "    return out"
      ],
      "execution_count": 0,
      "outputs": []
    },
    {
      "cell_type": "code",
      "metadata": {
        "id": "VjbDpTHyv3iw",
        "colab_type": "code",
        "colab": {}
      },
      "source": [
        "net = Net(input_size, hidden_size, num_classes)\n",
        "criterian = nn.CrossEntropyLoss()\n",
        "optimizer = torch.optim.Adam(net.parameters(), lr = learning_rate)"
      ],
      "execution_count": 0,
      "outputs": []
    },
    {
      "cell_type": "code",
      "metadata": {
        "id": "0zUy8o7zrO4Q",
        "colab_type": "code",
        "colab": {}
      },
      "source": [
        "for epoch in range(num_epochs):\n",
        "  for i, (images, labels) in enumerate(train_loader):    \n",
        "    images = Variable(images)\n",
        "    labels = Variable(labels)\n",
        "    optimizer.zero_grad()\n",
        "    outputs = net(images)\n",
        "    loss = criterian(outputs, labels)\n",
        "    loss.backward()\n",
        "    optimizer.step()\n",
        "    if (i+1)%100 == 0:\n",
        "          print('Epoch [%d/%d], Step [%d/%d],Loss: %.4f'\n",
        "                %(epoch+1, num_epochs, i+1, len(train_dataset)//batch_size,loss.data))\n",
        "      \n",
        "    "
      ],
      "execution_count": 0,
      "outputs": []
    },
    {
      "cell_type": "code",
      "metadata": {
        "id": "-9OQ6DB1urNj",
        "colab_type": "code",
        "colab": {
          "base_uri": "https://localhost:8080/",
          "height": 35
        },
        "outputId": "08a66df8-2a78-4868-d614-3b3b6d94d3db"
      },
      "source": [
        "correct = 0\n",
        "total = 0\n",
        "for images, labels in test_loader:\n",
        "    images = Variable(images)    \n",
        "    outputs = net(images)\n",
        "    _, predicted = torch.max(outputs.data, 1) \n",
        "    total += labels.size(0)               \n",
        "    correct += (predicted == labels).sum()\n",
        "    \n",
        "print('Accuracy on 10k test images: %d %%' % (100 * correct / total))"
      ],
      "execution_count": 14,
      "outputs": [
        {
          "output_type": "stream",
          "text": [
            "Accuracy on 10k test images: 64 %\n"
          ],
          "name": "stdout"
        }
      ]
    },
    {
      "cell_type": "code",
      "metadata": {
        "id": "jOlIOgXLxY6U",
        "colab_type": "code",
        "colab": {}
      },
      "source": [
        ""
      ],
      "execution_count": 0,
      "outputs": []
    }
  ]
}