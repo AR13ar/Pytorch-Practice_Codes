{
  "nbformat": 4,
  "nbformat_minor": 0,
  "metadata": {
    "colab": {
      "name": "Untitled5.ipynb",
      "provenance": []
    },
    "kernelspec": {
      "name": "python3",
      "display_name": "Python 3"
    },
    "accelerator": "GPU"
  },
  "cells": [
    {
      "cell_type": "code",
      "metadata": {
        "id": "fuVuhoVKqaid",
        "colab_type": "code",
        "colab": {}
      },
      "source": [
        "use_cuda = True"
      ],
      "execution_count": 0,
      "outputs": []
    },
    {
      "cell_type": "code",
      "metadata": {
        "id": "MX0yuoLOFPUj",
        "colab_type": "code",
        "colab": {}
      },
      "source": [
        "import torch"
      ],
      "execution_count": 0,
      "outputs": []
    },
    {
      "cell_type": "code",
      "metadata": {
        "id": "kpW5URahFPFF",
        "colab_type": "code",
        "colab": {}
      },
      "source": [
        "import torch.nn as nn"
      ],
      "execution_count": 0,
      "outputs": []
    },
    {
      "cell_type": "code",
      "metadata": {
        "id": "3PKIWAHZGpgs",
        "colab_type": "code",
        "colab": {}
      },
      "source": [
        "import torchvision.datasets as dsets"
      ],
      "execution_count": 0,
      "outputs": []
    },
    {
      "cell_type": "code",
      "metadata": {
        "id": "rZEBJAr8GyEg",
        "colab_type": "code",
        "colab": {}
      },
      "source": [
        "import torchvision.transforms as transforms"
      ],
      "execution_count": 0,
      "outputs": []
    },
    {
      "cell_type": "code",
      "metadata": {
        "id": "sa9YPb_LG5fp",
        "colab_type": "code",
        "colab": {}
      },
      "source": [
        "from torch.autograd import Variable"
      ],
      "execution_count": 0,
      "outputs": []
    },
    {
      "cell_type": "code",
      "metadata": {
        "id": "SB4MOPxQjIMU",
        "colab_type": "code",
        "colab": {}
      },
      "source": [
        "input_size = 784"
      ],
      "execution_count": 0,
      "outputs": []
    },
    {
      "cell_type": "code",
      "metadata": {
        "id": "AmZlL64Ht6bw",
        "colab_type": "code",
        "colab": {}
      },
      "source": [
        "hidden_size = 500\n",
        "num_classes = 10\n",
        "num_epochs = 10\n",
        "batch_size = 100\n",
        "learning_rate = 0.0001"
      ],
      "execution_count": 0,
      "outputs": []
    },
    {
      "cell_type": "code",
      "metadata": {
        "id": "BYI24oDauFjz",
        "colab_type": "code",
        "colab": {
          "base_uri": "https://localhost:8080/",
          "height": 1000
        },
        "outputId": "06e13c61-b88b-470a-d513-5687ee53ce1d"
      },
      "source": [
        "train_dataset = dsets.MNIST(root='./data',\n",
        "                           train=True,\n",
        "                           transform=transforms.ToTensor(),\n",
        "                           download=True)\n",
        "\n",
        "test_dataset = dsets.MNIST(root='./data',\n",
        "                           train=False,\n",
        "                           transform=transforms.ToTensor())"
      ],
      "execution_count": 9,
      "outputs": [
        {
          "output_type": "stream",
          "text": [
            "\r0it [00:00, ?it/s]"
          ],
          "name": "stderr"
        },
        {
          "output_type": "stream",
          "text": [
            "Downloading http://yann.lecun.com/exdb/mnist/train-images-idx3-ubyte.gz to ./data/MNIST/raw/train-images-idx3-ubyte.gz\n"
          ],
          "name": "stdout"
        },
        {
          "output_type": "stream",
          "text": [
            "9920512it [01:17, 83203.30it/s]                             "
          ],
          "name": "stderr"
        },
        {
          "output_type": "stream",
          "text": [
            "Extracting ./data/MNIST/raw/train-images-idx3-ubyte.gz\n"
          ],
          "name": "stdout"
        },
        {
          "output_type": "stream",
          "text": [
            "\n",
            "0it [00:00, ?it/s]\u001b[A"
          ],
          "name": "stderr"
        },
        {
          "output_type": "stream",
          "text": [
            "Downloading http://yann.lecun.com/exdb/mnist/train-labels-idx1-ubyte.gz to ./data/MNIST/raw/train-labels-idx1-ubyte.gz\n"
          ],
          "name": "stdout"
        },
        {
          "output_type": "stream",
          "text": [
            "\n",
            "  0%|          | 0/28881 [00:00<?, ?it/s]\u001b[A\n",
            " 57%|█████▋    | 16384/28881 [00:00<00:00, 88075.13it/s]\u001b[A\n",
            "32768it [00:01, 42520.64it/s]                           \u001b[A\n",
            "\u001b[A\n",
            "0it [00:00, ?it/s]\u001b[A"
          ],
          "name": "stderr"
        },
        {
          "output_type": "stream",
          "text": [
            "Extracting ./data/MNIST/raw/train-labels-idx1-ubyte.gz\n",
            "Downloading http://yann.lecun.com/exdb/mnist/t10k-images-idx3-ubyte.gz to ./data/MNIST/raw/t10k-images-idx3-ubyte.gz\n"
          ],
          "name": "stdout"
        },
        {
          "output_type": "stream",
          "text": [
            "\n",
            "  0%|          | 0/1648877 [00:00<?, ?it/s]\u001b[A\n",
            "  1%|          | 16384/1648877 [00:00<00:19, 81775.90it/s]\u001b[A\n",
            "  2%|▏         | 32768/1648877 [00:01<00:30, 53521.57it/s]\u001b[A\n",
            "  3%|▎         | 49152/1648877 [00:01<00:25, 61535.50it/s]\u001b[A\n",
            "  3%|▎         | 57344/1648877 [00:01<00:28, 55490.84it/s]\u001b[A\n",
            "  4%|▍         | 73728/1648877 [00:01<00:25, 62203.73it/s]\u001b[A\n",
            "  5%|▍         | 81920/1648877 [00:01<00:27, 56771.57it/s]\u001b[A\n",
            "  6%|▌         | 98304/1648877 [00:02<00:24, 63849.00it/s]\u001b[A\n",
            "  7%|▋         | 114688/1648877 [00:02<00:22, 69448.98it/s]\u001b[A\n",
            "  8%|▊         | 131072/1648877 [00:02<00:20, 74652.77it/s]\u001b[A\n",
            "  9%|▉         | 147456/1648877 [00:02<00:28, 51998.86it/s]\u001b[A\n",
            " 11%|█         | 180224/1648877 [00:03<00:22, 65697.78it/s]\u001b[A\n",
            " 12%|█▏        | 196608/1648877 [00:03<00:25, 57777.03it/s]\u001b[A\n",
            " 13%|█▎        | 212992/1648877 [00:03<00:22, 64729.79it/s]\u001b[A\n",
            " 14%|█▍        | 229376/1648877 [00:04<00:24, 57257.05it/s]\u001b[A\n",
            " 14%|█▍        | 237568/1648877 [00:04<00:26, 52976.82it/s]\u001b[A\n",
            " 15%|█▍        | 245760/1648877 [00:04<00:25, 55353.92it/s]\u001b[A\n",
            " 16%|█▌        | 262144/1648877 [00:04<00:23, 59258.92it/s]\u001b[A\n",
            " 16%|█▋        | 270336/1648877 [00:04<00:22, 60087.35it/s]\u001b[A\n",
            " 17%|█▋        | 286720/1648877 [00:04<00:21, 62928.83it/s]\u001b[A\n",
            " 18%|█▊        | 303104/1648877 [00:05<00:19, 69207.12it/s]\u001b[A\n",
            " 19%|█▉        | 319488/1648877 [00:05<00:17, 74392.08it/s]\u001b[A\n",
            " 20%|█▉        | 327680/1648877 [00:05<00:18, 70268.11it/s]\u001b[A\n",
            " 21%|██        | 344064/1648877 [00:05<00:17, 75296.97it/s]\u001b[A\n",
            " 22%|██▏       | 360448/1648877 [00:06<00:25, 49578.61it/s]\u001b[A\n",
            " 24%|██▍       | 393216/1648877 [00:06<00:19, 63183.94it/s]\u001b[A\n",
            " 25%|██▍       | 409600/1648877 [00:06<00:17, 69410.14it/s]\u001b[A\n",
            " 26%|██▌       | 425984/1648877 [00:06<00:20, 59748.08it/s]\u001b[A\n",
            " 27%|██▋       | 442368/1648877 [00:07<00:18, 66460.30it/s]\u001b[A\n",
            " 28%|██▊       | 458752/1648877 [00:07<00:16, 72123.35it/s]\u001b[A\n",
            " 29%|██▉       | 475136/1648877 [00:07<00:15, 76751.36it/s]\u001b[A\n",
            " 30%|██▉       | 491520/1648877 [00:08<00:22, 52363.56it/s]\u001b[A\n",
            " 31%|███▏      | 516096/1648877 [00:08<00:17, 64185.50it/s]\u001b[A\n",
            " 32%|███▏      | 532480/1648877 [00:08<00:15, 70221.34it/s]\u001b[A\n",
            " 33%|███▎      | 548864/1648877 [00:09<00:23, 47153.30it/s]\u001b[A\n",
            " 34%|███▍      | 565248/1648877 [00:09<00:18, 59174.05it/s]\u001b[A\n",
            " 35%|███▌      | 581632/1648877 [00:09<00:18, 57602.94it/s]\u001b[A\n",
            " 36%|███▋      | 598016/1648877 [00:09<00:17, 60179.82it/s]\u001b[A\n",
            " 37%|███▋      | 606208/1648877 [00:09<00:19, 54205.27it/s]\u001b[A\n",
            " 37%|███▋      | 614400/1648877 [00:09<00:17, 58445.50it/s]\u001b[A\n",
            "9920512it [01:30, 83203.30it/s]\n",
            " 39%|███▉      | 638976/1648877 [00:10<00:15, 63541.50it/s]\u001b[A\n",
            " 40%|███▉      | 655360/1648877 [00:10<00:15, 64047.09it/s]\u001b[A\n",
            " 41%|████      | 671744/1648877 [00:10<00:13, 70051.17it/s]\u001b[A\n",
            " 42%|████▏     | 688128/1648877 [00:10<00:12, 75109.86it/s]\u001b[A\n",
            " 43%|████▎     | 704512/1648877 [00:11<00:11, 79108.30it/s]\u001b[A\n",
            " 44%|████▎     | 720896/1648877 [00:11<00:11, 82151.02it/s]\u001b[A\n",
            " 45%|████▍     | 737280/1648877 [00:11<00:10, 84371.86it/s]\u001b[A\n",
            " 46%|████▌     | 753664/1648877 [00:11<00:10, 85978.48it/s]\u001b[A\n",
            " 47%|████▋     | 770048/1648877 [00:11<00:10, 87045.51it/s]\u001b[A\n",
            " 48%|████▊     | 786432/1648877 [00:11<00:08, 99426.13it/s]\u001b[A\n",
            " 49%|████▉     | 811008/1648877 [00:12<00:08, 98799.98it/s]\u001b[A\n",
            " 50%|█████     | 827392/1648877 [00:12<00:07, 109689.98it/s]\u001b[A\n",
            " 52%|█████▏    | 851968/1648877 [00:12<00:06, 116301.85it/s]\u001b[A\n",
            " 53%|█████▎    | 876544/1648877 [00:12<00:07, 109788.57it/s]\u001b[A\n",
            " 55%|█████▍    | 901120/1648877 [00:12<00:06, 116379.06it/s]\u001b[A\n",
            " 56%|█████▌    | 925696/1648877 [00:13<00:05, 121440.87it/s]\u001b[A\n",
            " 58%|█████▊    | 950272/1648877 [00:13<00:05, 125308.29it/s]\u001b[A\n",
            " 59%|█████▉    | 974848/1648877 [00:13<00:05, 128219.49it/s]\u001b[A\n",
            " 61%|██████    | 999424/1648877 [00:13<00:04, 130262.75it/s]\u001b[A\n",
            " 62%|██████▏   | 1024000/1648877 [00:13<00:04, 148935.66it/s]\u001b[A\n",
            " 64%|██████▍   | 1056768/1648877 [00:13<00:03, 157213.50it/s]\u001b[A\n",
            " 67%|██████▋   | 1097728/1648877 [00:14<00:03, 158178.89it/s]\u001b[A\n",
            " 69%|██████▉   | 1138688/1648877 [00:14<00:02, 173729.18it/s]\u001b[A\n",
            " 71%|███████   | 1163264/1648877 [00:14<00:03, 132241.99it/s]\u001b[A\n",
            " 74%|███████▎  | 1212416/1648877 [00:14<00:02, 156123.01it/s]\u001b[A\n",
            " 77%|███████▋  | 1269760/1648877 [00:15<00:02, 184016.92it/s]\u001b[A\n",
            " 79%|███████▉  | 1310720/1648877 [00:15<00:01, 175926.51it/s]\u001b[A\n",
            " 81%|████████▏ | 1343488/1648877 [00:15<00:01, 201310.14it/s]\u001b[A\n",
            " 84%|████████▍ | 1384448/1648877 [00:15<00:01, 208061.09it/s]\u001b[A\n",
            " 87%|████████▋ | 1433600/1648877 [00:15<00:00, 222876.63it/s]\u001b[A\n",
            " 89%|████████▉ | 1474560/1648877 [00:15<00:00, 223636.83it/s]\u001b[A\n",
            " 91%|█████████ | 1499136/1648877 [00:16<00:00, 156617.49it/s]\u001b[A\n",
            " 95%|█████████▍| 1564672/1648877 [00:16<00:00, 190683.97it/s]\u001b[A\n",
            " 97%|█████████▋| 1597440/1648877 [00:16<00:00, 187292.54it/s]\u001b[A\n",
            " 98%|█████████▊| 1622016/1648877 [00:16<00:00, 136929.66it/s]\u001b[A\n",
            "\n",
            "0it [00:00, ?it/s]\u001b[A\u001b[A"
          ],
          "name": "stderr"
        },
        {
          "output_type": "stream",
          "text": [
            "Extracting ./data/MNIST/raw/t10k-images-idx3-ubyte.gz\n",
            "Downloading http://yann.lecun.com/exdb/mnist/t10k-labels-idx1-ubyte.gz to ./data/MNIST/raw/t10k-labels-idx1-ubyte.gz\n"
          ],
          "name": "stdout"
        },
        {
          "output_type": "stream",
          "text": [
            "\n",
            "\n",
            "  0%|          | 0/4542 [00:00<?, ?it/s]\u001b[A\u001b[A\n",
            "\n",
            "8192it [00:00, 21404.34it/s]            \u001b[A\u001b[A"
          ],
          "name": "stderr"
        },
        {
          "output_type": "stream",
          "text": [
            "Extracting ./data/MNIST/raw/t10k-labels-idx1-ubyte.gz\n",
            "Processing...\n",
            "Done!\n"
          ],
          "name": "stdout"
        }
      ]
    },
    {
      "cell_type": "code",
      "metadata": {
        "id": "SynR9HamuRdl",
        "colab_type": "code",
        "colab": {}
      },
      "source": [
        "train_loader = torch.utils.data.DataLoader(dataset=train_dataset,\n",
        "                                          batch_size=batch_size,\n",
        "                                          shuffle=True)\n",
        "\n",
        "test_loader = torch.utils.data.DataLoader(dataset=test_dataset,\n",
        "                                          batch_size=batch_size,\n",
        "                                          shuffle=False)"
      ],
      "execution_count": 0,
      "outputs": []
    },
    {
      "cell_type": "code",
      "metadata": {
        "id": "VeZa187Kukxo",
        "colab_type": "code",
        "colab": {}
      },
      "source": [
        "class Net(nn.Module):\n",
        "  def __init__(self, input_size, hidden_size, num_classes):\n",
        "    super(Net, self).__init__()\n",
        "    self.fc1 = nn.Linear(input_size, hidden_size)\n",
        "    self.relu = nn.ReLU()\n",
        "    self.fc2 = nn.Linear(hidden_size, num_classes)\n",
        "  def forward(self,x):\n",
        "    out = self.fc1(x)\n",
        "    out = self.relu(out)\n",
        "    out = self.fc2(out)\n",
        "    return out"
      ],
      "execution_count": 0,
      "outputs": []
    },
    {
      "cell_type": "code",
      "metadata": {
        "id": "VjbDpTHyv3iw",
        "colab_type": "code",
        "colab": {}
      },
      "source": [
        "net = Net(input_size, hidden_size, num_classes)\n",
        "criterian = nn.CrossEntropyLoss()\n",
        "optimizer = torch.optim.Adam(net.parameters(), lr = learning_rate)"
      ],
      "execution_count": 0,
      "outputs": []
    },
    {
      "cell_type": "code",
      "metadata": {
        "id": "0zUy8o7zrO4Q",
        "colab_type": "code",
        "colab": {}
      },
      "source": [
        "for epoch in range(num_epochs):\n",
        "  for i, (images, labels) in enumerate(train_loader):\n",
        "    images = Variable(images.view(-1, 28*28))\n",
        "    labels = Variable(labels)\n",
        "    optimizer.zero_grad()\n",
        "    outputs = net(images)\n",
        "    loss = criterian(outputs, labels)\n",
        "    loss.backward()\n",
        "    optimizer.step()\n",
        "    if (i+1)%100 == 0:\n",
        "          print('Epoch [%d/%d], Step [%d/%d],Loss: %.4f'\n",
        "                %(epoch+1, num_epochs, i+1, len(train_dataset)//batch_size,loss.data))\n",
        "      \n",
        "    "
      ],
      "execution_count": 0,
      "outputs": []
    },
    {
      "cell_type": "code",
      "metadata": {
        "id": "-9OQ6DB1urNj",
        "colab_type": "code",
        "colab": {
          "base_uri": "https://localhost:8080/",
          "height": 35
        },
        "outputId": "8fac6f80-412f-455a-e9b2-ecc84bdd50da"
      },
      "source": [
        "correct = 0\n",
        "total = 0\n",
        "for images, labels in test_loader:\n",
        "    images = Variable(images.view(-1, 28*28))    \n",
        "    outputs = net(images)\n",
        "    _, predicted = torch.max(outputs.data, 1) \n",
        "    total += labels.size(0)               \n",
        "    correct += (predicted == labels).sum()\n",
        "    \n",
        "print('Accuracy of the network on the 10K test images: %d %%' % (100 * correct / total))"
      ],
      "execution_count": 27,
      "outputs": [
        {
          "output_type": "stream",
          "text": [
            "Accuracy of the network on the 10K test images: 98 %\n"
          ],
          "name": "stdout"
        }
      ]
    },
    {
      "cell_type": "code",
      "metadata": {
        "id": "jOlIOgXLxY6U",
        "colab_type": "code",
        "colab": {}
      },
      "source": [
        ""
      ],
      "execution_count": 0,
      "outputs": []
    }
  ]
}